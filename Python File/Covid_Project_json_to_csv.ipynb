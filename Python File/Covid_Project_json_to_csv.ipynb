{
  "cells": [
    {
      "cell_type": "code",
      "execution_count": null,
      "id": "a12066ed",
      "metadata": {
        "id": "a12066ed"
      },
      "outputs": [],
      "source": [
        "# importing necessary libraries\n",
        "import pandas as pd\n",
        "import numpy as np\n",
        "import requests\n",
        "import json\n"
      ]
    },
    {
      "cell_type": "code",
      "execution_count": null,
      "id": "8d124d29",
      "metadata": {
        "id": "8d124d29",
        "outputId": "4de41bd5-eac0-4b65-daa1-2a5e620c5a64"
      },
      "outputs": [],
      "source": [
        "# getting data from a url using requests module of python\n",
        "data_min = requests.get('https://data.covid19india.org/v4/min/data.min.json')\n",
        "# loading the data in a variable\n",
        "\n",
        "data = json.loads(data_min.text)"
      ]
    },
    {
      "cell_type": "code",
      "execution_count": null,
      "id": "8ca71ca4",
      "metadata": {
        "id": "8ca71ca4",
        "outputId": "9364a539-7fbe-481f-8266-7238af4dcacd"
      },
      "outputs": [],
      "source": [
        "# since the structure od data is nested dictionary over nested disctionary.\n",
        "# first we create an empty dictionary 'd'\n",
        "d={}\n",
        "# using for loop we will extract 'total' dictionary inside each state which are keys in the original dictionary 'data'\n",
        "for i in data.keys():\n",
        "    d[i] = data[i]['total']"
      ]
    },
    {
      "cell_type": "code",
      "execution_count": null,
      "id": "16295610",
      "metadata": {
        "id": "16295610"
      },
      "outputs": [],
      "source": [
        "# now since this a dictionary format and pandas dataframe spport dictionary data structure.\n",
        "# converting 'd' into a dataframe using pandas\n",
        "df_statewise_total = pd.DataFrame(d)"
      ]
    },
    {
      "cell_type": "code",
      "execution_count": null,
      "id": "754397fd",
      "metadata": {
        "id": "754397fd"
      },
      "outputs": [],
      "source": [
        "# changing the structure using transpose for better formatting\n",
        "df_statewise_total=df_statewise_total.T"
      ]
    },
    {
      "cell_type": "code",
      "execution_count": null,
      "id": "70865918",
      "metadata": {
        "id": "70865918"
      },
      "outputs": [],
      "source": [
        "# changing index into column\n",
        "df_statewise_total = df_statewise_total.rename_axis('state', axis='index').reset_index()"
      ]
    },
    {
      "cell_type": "code",
      "execution_count": null,
      "id": "76c82aa1",
      "metadata": {
        "id": "76c82aa1"
      },
      "outputs": [],
      "source": [
        "# saving the dataframe as csv into local system\n",
        "df_statewise_total.to_csv(r\"C:\\Users\\anmol\\Desktop\\DA\\MASAI\\PROJECT\\trial\\df_statewise_total.csv\",index = False)"
      ]
    },
    {
      "cell_type": "code",
      "execution_count": null,
      "id": "cf7d3496",
      "metadata": {
        "id": "cf7d3496"
      },
      "outputs": [],
      "source": [
        "# similarly saving state wise table for delta7\n",
        "g={}\n",
        "\n",
        "for i in data.keys():\n",
        "    g[i] = data[i]['delta7']\n",
        "\n",
        "df_delta7_statewise = pd.DataFrame(g).T\n",
        "\n",
        "df_delta7_statewise = df_delta7_statewise.rename_axis('state', axis='index').reset_index() # changing index into column\n",
        "\n",
        "df_delta7_statewise.to_csv(r\"C:\\Users\\anmol\\Desktop\\DA\\MASAI\\PROJECT\\trial\\df_delta7_statewise.csv\",index = False)\n"
      ]
    },
    {
      "cell_type": "code",
      "execution_count": null,
      "id": "3733f917",
      "metadata": {
        "id": "3733f917"
      },
      "outputs": [],
      "source": [
        "# similarly saving state wise table for delta\n",
        "g={}\n",
        "\n",
        "for i in data.keys():\n",
        "    g[i] = data[i]['delta']\n",
        "\n",
        "df_delta_statewise = pd.DataFrame(g).T\n",
        "\n",
        "df_delta_statewise = df_delta_statewise.rename_axis('state', axis='index').reset_index() # changing index into column\n",
        "\n",
        "df_delta_statewise.to_csv(r\"C:\\Users\\anmol\\Desktop\\DA\\MASAI\\PROJECT\\trial\\df_delta_statewise.csv\",index = False)\n"
      ]
    },
    {
      "cell_type": "code",
      "execution_count": null,
      "id": "fa924a58",
      "metadata": {
        "id": "fa924a58"
      },
      "outputs": [],
      "source": [
        "# similarly saving state wise table for meta\n",
        "g={}\n",
        "\n",
        "for i in data.keys():\n",
        "    g[i] = data[i]['meta']\n",
        "\n",
        "df_meta_statewise = pd.DataFrame(g).T\n",
        "\n",
        "df_meta_statewise = df_meta_statewise.rename_axis('state', axis='index').reset_index() # changing index into column\n",
        "\n",
        "df_meta_statewise.to_csv(r\"C:\\Users\\anmol\\Desktop\\DA\\MASAI\\PROJECT\\trial\\df_meta_statewise.csv\",index = False)\n"
      ]
    },
    {
      "cell_type": "code",
      "execution_count": null,
      "id": "35358c87",
      "metadata": {
        "id": "35358c87"
      },
      "outputs": [],
      "source": [
        "# since in the districts dictionary there are again meta, delta,delta7 and total dictionaries,\n",
        "# hence they are extracted separately\n",
        "\n",
        "# saving delta21_14 under district category.\n",
        "g = {}\n",
        "\n",
        "for state in data.keys():\n",
        "    if 'districts' in data[state]:\n",
        "        for district in data[state][\"districts\"].keys():\n",
        "            if 'delta21_14' in data[state][\"districts\"][district]:\n",
        "                g[district] = data[state][\"districts\"][district]['delta21_14']\n",
        "                g[district]['state'] = state  # Add state name to the dictionary\n",
        "            else:\n",
        "                g[district] = {'confirmed': np.nan, 'recovered': np.nan, 'tested': np.nan, 'vaccinated1': np.nan, 'vaccinated2': np.nan, 'state': state}\n",
        "    else:\n",
        "        g[state] = {'confirmed': np.nan, 'recovered': np.nan, 'tested': np.nan, 'vaccinated1': np.nan, 'vaccinated2': np.nan, 'state': state}\n",
        "\n",
        "df_districts_statewise_delta21_14 = pd.DataFrame(g).T\n",
        "\n",
        "df_districts_statewise_delta21_14 = df_districts_statewise_delta21_14.rename_axis('district', axis='index').reset_index() # changing index into column\n",
        "\n",
        "df_districts_statewise_delta21_14.to_csv(r\"C:\\Users\\anmol\\Desktop\\DA\\MASAI\\PROJECT\\trial\\df_districts_statewise_delta21_14.csv\",index = False)"
      ]
    },
    {
      "cell_type": "code",
      "execution_count": null,
      "id": "73bc58af",
      "metadata": {
        "id": "73bc58af"
      },
      "outputs": [],
      "source": [
        "# saving total under district category.\n",
        "g = {}\n",
        "\n",
        "for state in data.keys():\n",
        "    if 'districts' in data[state]:\n",
        "        for district in data[state][\"districts\"].keys():\n",
        "            if 'total' in data[state][\"districts\"][district]:\n",
        "                g[district] = data[state][\"districts\"][district]['total']\n",
        "                g[district]['state'] = state  # Add state name to the dictionary\n",
        "            else:\n",
        "                g[district] = {'confirmed': np.nan, 'recovered': np.nan, 'tested': np.nan, 'vaccinated1': np.nan, 'vaccinated2': np.nan, 'state': state}\n",
        "    else:\n",
        "        g[state] = {'confirmed': np.nan, 'recovered': np.nan, 'tested': np.nan, 'vaccinated1': np.nan, 'vaccinated2': np.nan, 'state': state}\n",
        "\n",
        "df_districts_statewise_total = pd.DataFrame(g).T\n",
        "\n",
        "df_districts_statewise_total = df_districts_statewise_total.rename_axis('district', axis='index').reset_index() # changing index into column\n",
        "\n",
        "df_districts_statewise_total.to_csv(r\"C:\\Users\\anmol\\Desktop\\DA\\MASAI\\PROJECT\\trial\\df_districts_statewise_total.csv\",index = False)"
      ]
    },
    {
      "cell_type": "code",
      "execution_count": null,
      "id": "025a14b1",
      "metadata": {
        "id": "025a14b1"
      },
      "outputs": [],
      "source": [
        "# saving delta under district category.\n",
        "g = {}\n",
        "\n",
        "for state in data.keys():\n",
        "    if 'districts' in data[state]:\n",
        "        for district in data[state][\"districts\"].keys():\n",
        "            if 'delta' in data[state][\"districts\"][district]:\n",
        "                g[district] = data[state][\"districts\"][district]['delta']\n",
        "                g[district]['state'] = state  # Add state name to the dictionary\n",
        "            else:\n",
        "                g[district] = {'confirmed': np.nan, 'recovered': np.nan, 'tested': np.nan, 'vaccinated1': np.nan, 'vaccinated2': np.nan, 'state': state}\n",
        "    else:\n",
        "        g[state] = {'confirmed': np.nan, 'recovered': np.nan, 'tested': np.nan, 'vaccinated1': np.nan, 'vaccinated2': np.nan, 'state': state}\n",
        "\n",
        "df_districts_statewise_delta = pd.DataFrame(g).T\n",
        "\n",
        "df_districts_statewise_delta = df_districts_statewise_delta.rename_axis('district', axis='index').reset_index() # changing index into column\n",
        "\n",
        "df_districts_statewise_delta.to_csv(r\"C:\\Users\\anmol\\Desktop\\DA\\MASAI\\PROJECT\\trial\\df_districts_statewise_delta.csv\",index = False)"
      ]
    },
    {
      "cell_type": "code",
      "execution_count": null,
      "id": "65c52585",
      "metadata": {
        "id": "65c52585"
      },
      "outputs": [],
      "source": [
        "# saving delta7 under district category.\n",
        "g = {}\n",
        "\n",
        "for state in data.keys():\n",
        "    if 'districts' in data[state]:\n",
        "        for district in data[state][\"districts\"].keys():\n",
        "            if 'delta7' in data[state][\"districts\"][district]:\n",
        "                g[district] = data[state][\"districts\"][district]['delta7']\n",
        "                g[district]['state'] = state  # Add state name to the dictionary\n",
        "            else:\n",
        "                g[district] = {'confirmed': np.nan, 'recovered': np.nan, 'tested': np.nan, 'vaccinated1': np.nan, 'vaccinated2': np.nan, 'state': state}\n",
        "    else:\n",
        "        g[state] = {'confirmed': np.nan, 'recovered': np.nan, 'tested': np.nan, 'vaccinated1': np.nan, 'vaccinated2': np.nan, 'state': state}\n",
        "\n",
        "df_districts_statewise_delta7 = pd.DataFrame(g).T\n",
        "\n",
        "df_districts_statewise_delta7 = df_districts_statewise_delta7.rename_axis('district', axis='index').reset_index() # changing index into column\n",
        "\n",
        "df_districts_statewise_delta7.to_csv(r\"C:\\Users\\anmol\\Desktop\\DA\\MASAI\\PROJECT\\trial\\df_districts_statewise_delta7.csv\",index = False)"
      ]
    },
    {
      "cell_type": "code",
      "execution_count": null,
      "id": "9d909b6c",
      "metadata": {
        "id": "9d909b6c"
      },
      "outputs": [],
      "source": [
        "# saving meta under district category.\n",
        "g = {}\n",
        "\n",
        "for state in data.keys():\n",
        "    if 'districts' in data[state]:\n",
        "        for district in data[state][\"districts\"].keys():\n",
        "            if 'meta' in data[state][\"districts\"][district]:\n",
        "                g[district] = data[state][\"districts\"][district]['meta']\n",
        "                g[district]['state'] = state  # Add state name to the dictionary\n",
        "            else:\n",
        "                g[district] = {'confirmed': np.nan, 'recovered': np.nan, 'tested': np.nan, 'vaccinated1': np.nan, 'vaccinated2': np.nan, 'state': state}\n",
        "    else:\n",
        "        g[state] = {'confirmed': np.nan, 'recovered': np.nan, 'tested': np.nan, 'vaccinated1': np.nan, 'vaccinated2': np.nan, 'state': state}\n",
        "\n",
        "df_districts_statewise_meta = pd.DataFrame(g).T\n",
        "\n",
        "df_districts_statewise_meta = df_districts_statewise_meta.rename_axis('district', axis='index').reset_index() # changing index into column\n",
        "\n",
        "df_districts_statewise_meta.to_csv(r\"C:\\Users\\anmol\\Desktop\\DA\\MASAI\\PROJECT\\trial\\df_districts_statewise_meta.csv\",index = False)"
      ]
    },
    {
      "cell_type": "code",
      "execution_count": null,
      "id": "b9df4ac5",
      "metadata": {
        "id": "b9df4ac5"
      },
      "outputs": [],
      "source": [
        "# getting the timeseries data from the website\n",
        "timeseries = requests.get('https://data.covid19india.org/v4/min/timeseries.min.json') # getting data from a url using requests module of python\n",
        "data = json.loads(timeseries.text) # loading the data in a variable"
      ]
    },
    {
      "cell_type": "code",
      "execution_count": null,
      "id": "992a3b63",
      "metadata": {
        "id": "992a3b63"
      },
      "outputs": [],
      "source": [
        "# extracting delta7 data from timeseries json\n",
        "import pandas as pd\n",
        "\n",
        "all_state = {}  # Initialize the dictionary\n",
        "\n",
        "testing_data = {}\n",
        "\n",
        "for state in data.keys():\n",
        "    d = {}\n",
        "    for date in data[state]['dates'].keys():\n",
        "        if 'delta7' in data[state]['dates'][date]:\n",
        "            d[date] = data[state]['dates'][date]['delta7']\n",
        "        else:\n",
        "            d[date] = {'confirmed': np.nan, 'deceased': np.nan, 'recovered': np.nan, 'tested': np.nan, 'vaccinated': np.nan}\n",
        "    ts_total = pd.DataFrame(d)\n",
        "    ts_total = ts_total.T\n",
        "\n",
        "    ts_total = ts_total.rename_axis('date', axis='index').reset_index()  # Changing index into a column\n",
        "\n",
        "    ts_total['state'] = state  # Add a new column 'state' with the corresponding state name\n",
        "    testing_data[state] = ts_total\n",
        "    all_state[state] = ts_total  # Assign the dataframe to the dictionary with the state name as the key\n",
        "\n",
        "# Merge all individual dataframes vertically into a single dataframe\n",
        "merged_df = pd.concat(all_state.values(), ignore_index=True)\n",
        "merged_df.to_csv(r\"C:\\Users\\anmol\\Desktop\\DA\\MASAI\\PROJECT\\trial\\ts_delta7.csv\",index=False)\n",
        "\n"
      ]
    },
    {
      "cell_type": "code",
      "execution_count": null,
      "id": "76750d6a",
      "metadata": {
        "id": "76750d6a"
      },
      "outputs": [],
      "source": [
        "# extracting delta data from timeseries json\n",
        "import pandas as pd\n",
        "\n",
        "all_state = {}  # Initialize the dictionary\n",
        "\n",
        "testing_data = {}\n",
        "\n",
        "for state in data.keys():\n",
        "    d = {}\n",
        "    for date in data[state]['dates'].keys():\n",
        "        if 'delta' in data[state]['dates'][date]:\n",
        "            d[date] = data[state]['dates'][date]['delta']\n",
        "        else:\n",
        "            d[date] = {'confirmed': np.nan, 'deceased': np.nan, 'recovered': np.nan, 'tested': np.nan, 'vaccinated': np.nan}\n",
        "    ts_total = pd.DataFrame(d)\n",
        "    ts_total = ts_total.T\n",
        "\n",
        "    ts_total = ts_total.rename_axis('date', axis='index').reset_index()  # Changing index into a column\n",
        "\n",
        "    ts_total['state'] = state  # Add a new column 'state' with the corresponding state name\n",
        "    testing_data[state] = ts_total\n",
        "    all_state[state] = ts_total  # Assign the dataframe to the dictionary with the state name as the key\n",
        "\n",
        "# Merge all individual dataframes vertically into a single dataframe\n",
        "merged_df = pd.concat(all_state.values(), ignore_index=True)\n",
        "merged_df.to_csv(r\"C:\\Users\\anmol\\Desktop\\DA\\MASAI\\PROJECT\\trial\\ts_delta.csv\",index=False)\n",
        "\n"
      ]
    },
    {
      "cell_type": "code",
      "execution_count": null,
      "id": "92b3c2c3",
      "metadata": {
        "id": "92b3c2c3"
      },
      "outputs": [],
      "source": [
        "# extracting total data from timeseries json\n",
        "import pandas as pd\n",
        "\n",
        "all_state = {}  # Initialize the dictionary\n",
        "\n",
        "testing_data = {}\n",
        "\n",
        "for state in data.keys():\n",
        "    d = {}\n",
        "    for date in data[state]['dates'].keys():\n",
        "        if 'total' in data[state]['dates'][date]:\n",
        "            d[date] = data[state]['dates'][date]['total']\n",
        "        else:\n",
        "            d[date] = {'confirmed': np.nan, 'deceased': np.nan, 'recovered': np.nan, 'tested': np.nan, 'vaccinated': np.nan}\n",
        "    ts_total = pd.DataFrame(d)\n",
        "    ts_total = ts_total.T\n",
        "\n",
        "    ts_total = ts_total.rename_axis('date', axis='index').reset_index()  # Changing index into a column\n",
        "\n",
        "    ts_total['state'] = state  # Add a new column 'state' with the corresponding state name\n",
        "    testing_data[state] = ts_total\n",
        "    all_state[state] = ts_total  # Assign the dataframe to the dictionary with the state name as the key\n",
        "\n",
        "# Merge all individual dataframes vertically into a single dataframe\n",
        "merged_df = pd.concat(all_state.values(), ignore_index=True)\n",
        "merged_df.to_csv(r\"C:\\Users\\anmol\\Desktop\\DA\\MASAI\\PROJECT\\trial\\ts_total.csv\",index=False)\n",
        "\n"
      ]
    },
    {
      "cell_type": "code",
      "execution_count": null,
      "id": "211bce5e",
      "metadata": {
        "id": "211bce5e"
      },
      "outputs": [],
      "source": []
    }
  ],
  "metadata": {
    "colab": {
      "provenance": []
    },
    "kernelspec": {
      "display_name": "Python 3 (ipykernel)",
      "language": "python",
      "name": "python3"
    },
    "language_info": {
      "codemirror_mode": {
        "name": "ipython",
        "version": 3
      },
      "file_extension": ".py",
      "mimetype": "text/x-python",
      "name": "python",
      "nbconvert_exporter": "python",
      "pygments_lexer": "ipython3",
      "version": "3.10.9"
    }
  },
  "nbformat": 4,
  "nbformat_minor": 5
}
